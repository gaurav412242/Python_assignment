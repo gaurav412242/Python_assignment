{
 "cells": [
  {
   "cell_type": "markdown",
   "metadata": {},
   "source": [
    "## Programming Assignment_2\n",
    "-------------"
   ]
  },
  {
   "cell_type": "markdown",
   "metadata": {},
   "source": [
    "### 1. Write a Python program to convert kilometers to miles?\n"
   ]
  },
  {
   "cell_type": "code",
   "execution_count": 6,
   "metadata": {},
   "outputs": [
    {
     "name": "stdout",
     "output_type": "stream",
     "text": [
      "enter the kilometer9\n",
      "9.0 kilometer =  5.58 miles \n"
     ]
    }
   ],
   "source": [
    "km = input(\"enter the kilometer\") ## taking the input from the user \n",
    "km = float(km)                  ## typecasting the km to float \n",
    "mile = km * 0.62            \n",
    "print (km , \"kilometer = \" , mile , \"miles \")\n"
   ]
  },
  {
   "cell_type": "markdown",
   "metadata": {},
   "source": [
    "### 2.Write a Python program to convert Celsius to Fahrenheit?"
   ]
  },
  {
   "cell_type": "code",
   "execution_count": 7,
   "metadata": {},
   "outputs": [
    {
     "name": "stdout",
     "output_type": "stream",
     "text": [
      "enter the temperature in celcius4\n",
      "4.0 celsius = 135.2 fahrenheit\n"
     ]
    }
   ],
   "source": [
    "celcius = input(\"enter the temperature in celcius\")\n",
    "celcius = float(celcius)\n",
    "fahrenheit = celcius * 33.8\n",
    "print(celcius,\"celsius =\", fahrenheit , \"fahrenheit\")"
   ]
  },
  {
   "cell_type": "markdown",
   "metadata": {},
   "source": [
    "### 3. Write a Python program to display calendar?\n"
   ]
  },
  {
   "cell_type": "code",
   "execution_count": 10,
   "metadata": {},
   "outputs": [
    {
     "name": "stdout",
     "output_type": "stream",
     "text": [
      "enter the year 2007\n",
      "enter the month1\n",
      "    January 2007\n",
      "Mo Tu We Th Fr Sa Su\n",
      " 1  2  3  4  5  6  7\n",
      " 8  9 10 11 12 13 14\n",
      "15 16 17 18 19 20 21\n",
      "22 23 24 25 26 27 28\n",
      "29 30 31\n",
      "\n"
     ]
    }
   ],
   "source": [
    "import calendar             ## importing the library calender \n",
    "y = int(input(\"enter the year \"))\n",
    "m = int(input(\"enter the month\"))\n",
    "print(calendar.month(y,m))  ## using calender.month function to display the calender "
   ]
  },
  {
   "cell_type": "markdown",
   "metadata": {},
   "source": [
    "### 4. Write a Python program to solve quadratic equation?\n"
   ]
  },
  {
   "cell_type": "code",
   "execution_count": 11,
   "metadata": {},
   "outputs": [
    {
     "name": "stdout",
     "output_type": "stream",
     "text": [
      "the solution of the quadratic equation is  225\n"
     ]
    }
   ],
   "source": [
    "quad = \"a**2 + 2ab + b**2\"\n",
    "a= 10 \n",
    "b = 5\n",
    "quad1 = (a**2) + (2*a*b) + (b**2)\n",
    "print(\"the solution of the quadratic equation is \" , quad1)"
   ]
  },
  {
   "cell_type": "markdown",
   "metadata": {},
   "source": [
    "### 5. Write a Python program to swap two variables without temp variable?"
   ]
  },
  {
   "cell_type": "code",
   "execution_count": 14,
   "metadata": {},
   "outputs": [
    {
     "name": "stdout",
     "output_type": "stream",
     "text": [
      "the value of a before swap is  9\n",
      "the value of b before swap is  5\n",
      "the value of b after swap  is  9\n",
      "the value of a after swap is  5\n"
     ]
    }
   ],
   "source": [
    "a = 9 \n",
    "print(\"the value of a before swap is \" ,a )\n",
    "b = 5\n",
    "print(\"the value of b before swap is \" ,b)\n",
    "a = a + b \n",
    "b = a - b\n",
    "print(\"the value of b after swap  is \",b)\n",
    "a = a - b\n",
    "print(\"the value of a after swap is \",a)"
   ]
  }
 ],
 "metadata": {
  "kernelspec": {
   "display_name": "Python 3",
   "language": "python",
   "name": "python3"
  },
  "language_info": {
   "codemirror_mode": {
    "name": "ipython",
    "version": 3
   },
   "file_extension": ".py",
   "mimetype": "text/x-python",
   "name": "python",
   "nbconvert_exporter": "python",
   "pygments_lexer": "ipython3",
   "version": "3.7.6"
  }
 },
 "nbformat": 4,
 "nbformat_minor": 4
}
